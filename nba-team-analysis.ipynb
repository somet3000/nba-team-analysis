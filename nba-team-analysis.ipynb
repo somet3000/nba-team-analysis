{
 "cells": [
  {
   "cell_type": "markdown",
   "metadata": {},
   "source": [
    "# NBA Team Clustering Analysis Project\n",
    "\n",
    "Within the NBA, there are many different types of team play styles. For instance, some teams focus on three point shooting, while others emphasize defense and rebounding. The goal of this project is to use dimensionality reduction and K-means clustering analysis to identify distinct clusters of different team play styles throughout the NBA. Furthermore, by comparing the different play styles with total wins within the league, it is possible to see whether there is a dominant team play style or set of styles in the NBA. Finally, by performing this analysis on historical data dating back to the 1976 season (first season after the merger between the ABA and NBA), it is possible to identify trends in how the play style of the league as a whole has shifted over time.\n",
    "\n",
    "Creators: Karthik Guruvayurappan and Akshay Gopalkrishnan\n",
    "\n",
    "Data Source: basketball-reference.com"
   ]
  },
  {
   "cell_type": "code",
   "execution_count": 2,
   "metadata": {},
   "outputs": [],
   "source": [
    "# import necessary packages for data analysis\n",
    "import os\n",
    "import numpy as np\n",
    "import pandas as pd\n",
    "import matplotlib.pyplot as plt\n",
    "import seaborn as sns; sns.set_style('white')\n",
    "from sklearn.linear_model import LinearRegression\n",
    "from sklearn.cluster import KMeans\n",
    "from sklearn.decomposition import PCA\n",
    "from sklearn.preprocessing import StandardScaler\n",
    "from sklearn import datasets, linear_model"
   ]
  },
  {
   "cell_type": "markdown",
   "metadata": {},
   "source": [
    "### Formatting Datasets from basketball-reference.com into Dictionary\n",
    "\n",
    "This cell formats all of the datasets collected from basketball-reference.com into a dictionary format. To access the datasets, the keys are in the format: 'Year Type'. The datasets are read in as pandas DataFrames\n",
    "\n",
    "Available Years Include: 1976, 1980, 1985, 1990, 1995, 2000, 2005, 2010, 2015, 2019\n",
    "\n",
    "Available Dataset Types Include: Team, Opponent, Misc, Standings\n",
    "\n",
    "A sample statement to access a dataset would be: team_2019 = datasets['2019 Team']"
   ]
  },
  {
   "cell_type": "code",
   "execution_count": 3,
   "metadata": {
    "scrolled": false
   },
   "outputs": [],
   "source": [
    "# create a list to hold all dataset names\n",
    "dataset_list = []\n",
    "\n",
    "# adds all CSV files from the datasets folder to a list\n",
    "for dataset in os.listdir('./Datasets'):\n",
    "    if (dataset.endswith('.csv')):\n",
    "        dataset_list.append(dataset)\n",
    "\n",
    "# adds all datasets to a dictionary with the key being 'Year Type' \n",
    "datasets = {}\n",
    "for dataset in dataset_list:\n",
    "    data_file = pd.read_csv('./Datasets/' + dataset)\n",
    "    dataset_name = dataset[dataset.index('- ') + 1 : dataset.index('.')].strip()\n",
    "    datasets[dataset_name] = data_file"
   ]
  },
  {
   "cell_type": "markdown",
   "metadata": {},
   "source": [
    "### Exploratory Data Analysis\n",
    "\n"
   ]
  },
  {
   "cell_type": "code",
   "execution_count": 4,
   "metadata": {},
   "outputs": [
    {
     "data": {
      "text/html": [
       "<div>\n",
       "<style scoped>\n",
       "    .dataframe tbody tr th:only-of-type {\n",
       "        vertical-align: middle;\n",
       "    }\n",
       "\n",
       "    .dataframe tbody tr th {\n",
       "        vertical-align: top;\n",
       "    }\n",
       "\n",
       "    .dataframe thead th {\n",
       "        text-align: right;\n",
       "    }\n",
       "</style>\n",
       "<table border=\"1\" class=\"dataframe\">\n",
       "  <thead>\n",
       "    <tr style=\"text-align: right;\">\n",
       "      <th></th>\n",
       "      <th>Rk</th>\n",
       "      <th>Team</th>\n",
       "      <th>G</th>\n",
       "      <th>MP</th>\n",
       "      <th>FG</th>\n",
       "      <th>FGA</th>\n",
       "      <th>FG%</th>\n",
       "      <th>3P</th>\n",
       "      <th>3PA</th>\n",
       "      <th>3P%</th>\n",
       "      <th>...</th>\n",
       "      <th>FT%</th>\n",
       "      <th>ORB</th>\n",
       "      <th>DRB</th>\n",
       "      <th>TRB</th>\n",
       "      <th>AST</th>\n",
       "      <th>STL</th>\n",
       "      <th>BLK</th>\n",
       "      <th>TOV</th>\n",
       "      <th>PF</th>\n",
       "      <th>PTS</th>\n",
       "    </tr>\n",
       "  </thead>\n",
       "  <tbody>\n",
       "    <tr>\n",
       "      <th>0</th>\n",
       "      <td>1.0</td>\n",
       "      <td>Milwaukee Bucks*</td>\n",
       "      <td>82</td>\n",
       "      <td>241.2</td>\n",
       "      <td>43.4</td>\n",
       "      <td>91.1</td>\n",
       "      <td>0.476</td>\n",
       "      <td>13.5</td>\n",
       "      <td>38.2</td>\n",
       "      <td>0.353</td>\n",
       "      <td>...</td>\n",
       "      <td>0.773</td>\n",
       "      <td>9.3</td>\n",
       "      <td>40.4</td>\n",
       "      <td>49.7</td>\n",
       "      <td>26.0</td>\n",
       "      <td>7.5</td>\n",
       "      <td>5.9</td>\n",
       "      <td>13.9</td>\n",
       "      <td>19.6</td>\n",
       "      <td>118.1</td>\n",
       "    </tr>\n",
       "    <tr>\n",
       "      <th>1</th>\n",
       "      <td>2.0</td>\n",
       "      <td>Golden State Warriors*</td>\n",
       "      <td>82</td>\n",
       "      <td>241.5</td>\n",
       "      <td>44.0</td>\n",
       "      <td>89.8</td>\n",
       "      <td>0.491</td>\n",
       "      <td>13.3</td>\n",
       "      <td>34.4</td>\n",
       "      <td>0.385</td>\n",
       "      <td>...</td>\n",
       "      <td>0.801</td>\n",
       "      <td>9.7</td>\n",
       "      <td>36.5</td>\n",
       "      <td>46.2</td>\n",
       "      <td>29.4</td>\n",
       "      <td>7.6</td>\n",
       "      <td>6.4</td>\n",
       "      <td>14.3</td>\n",
       "      <td>21.4</td>\n",
       "      <td>117.7</td>\n",
       "    </tr>\n",
       "    <tr>\n",
       "      <th>2</th>\n",
       "      <td>3.0</td>\n",
       "      <td>New Orleans Pelicans</td>\n",
       "      <td>82</td>\n",
       "      <td>240.9</td>\n",
       "      <td>43.7</td>\n",
       "      <td>92.2</td>\n",
       "      <td>0.473</td>\n",
       "      <td>10.3</td>\n",
       "      <td>29.9</td>\n",
       "      <td>0.344</td>\n",
       "      <td>...</td>\n",
       "      <td>0.761</td>\n",
       "      <td>11.1</td>\n",
       "      <td>36.2</td>\n",
       "      <td>47.3</td>\n",
       "      <td>27.0</td>\n",
       "      <td>7.4</td>\n",
       "      <td>5.4</td>\n",
       "      <td>14.8</td>\n",
       "      <td>21.1</td>\n",
       "      <td>115.4</td>\n",
       "    </tr>\n",
       "    <tr>\n",
       "      <th>3</th>\n",
       "      <td>4.0</td>\n",
       "      <td>Philadelphia 76ers*</td>\n",
       "      <td>82</td>\n",
       "      <td>241.5</td>\n",
       "      <td>41.5</td>\n",
       "      <td>88.2</td>\n",
       "      <td>0.471</td>\n",
       "      <td>10.8</td>\n",
       "      <td>30.2</td>\n",
       "      <td>0.359</td>\n",
       "      <td>...</td>\n",
       "      <td>0.771</td>\n",
       "      <td>10.9</td>\n",
       "      <td>36.9</td>\n",
       "      <td>47.8</td>\n",
       "      <td>26.9</td>\n",
       "      <td>7.4</td>\n",
       "      <td>5.3</td>\n",
       "      <td>14.9</td>\n",
       "      <td>21.3</td>\n",
       "      <td>115.2</td>\n",
       "    </tr>\n",
       "    <tr>\n",
       "      <th>4</th>\n",
       "      <td>5.0</td>\n",
       "      <td>Los Angeles Clippers*</td>\n",
       "      <td>82</td>\n",
       "      <td>241.8</td>\n",
       "      <td>41.3</td>\n",
       "      <td>87.5</td>\n",
       "      <td>0.471</td>\n",
       "      <td>10.0</td>\n",
       "      <td>25.8</td>\n",
       "      <td>0.388</td>\n",
       "      <td>...</td>\n",
       "      <td>0.792</td>\n",
       "      <td>9.7</td>\n",
       "      <td>35.8</td>\n",
       "      <td>45.5</td>\n",
       "      <td>24.0</td>\n",
       "      <td>6.8</td>\n",
       "      <td>4.7</td>\n",
       "      <td>14.5</td>\n",
       "      <td>23.3</td>\n",
       "      <td>115.1</td>\n",
       "    </tr>\n",
       "  </tbody>\n",
       "</table>\n",
       "<p>5 rows × 25 columns</p>\n",
       "</div>"
      ],
      "text/plain": [
       "    Rk                    Team   G     MP    FG   FGA    FG%    3P   3PA  \\\n",
       "0  1.0        Milwaukee Bucks*  82  241.2  43.4  91.1  0.476  13.5  38.2   \n",
       "1  2.0  Golden State Warriors*  82  241.5  44.0  89.8  0.491  13.3  34.4   \n",
       "2  3.0    New Orleans Pelicans  82  240.9  43.7  92.2  0.473  10.3  29.9   \n",
       "3  4.0     Philadelphia 76ers*  82  241.5  41.5  88.2  0.471  10.8  30.2   \n",
       "4  5.0   Los Angeles Clippers*  82  241.8  41.3  87.5  0.471  10.0  25.8   \n",
       "\n",
       "     3P%  ...    FT%   ORB   DRB   TRB   AST  STL  BLK   TOV    PF    PTS  \n",
       "0  0.353  ...  0.773   9.3  40.4  49.7  26.0  7.5  5.9  13.9  19.6  118.1  \n",
       "1  0.385  ...  0.801   9.7  36.5  46.2  29.4  7.6  6.4  14.3  21.4  117.7  \n",
       "2  0.344  ...  0.761  11.1  36.2  47.3  27.0  7.4  5.4  14.8  21.1  115.4  \n",
       "3  0.359  ...  0.771  10.9  36.9  47.8  26.9  7.4  5.3  14.9  21.3  115.2  \n",
       "4  0.388  ...  0.792   9.7  35.8  45.5  24.0  6.8  4.7  14.5  23.3  115.1  \n",
       "\n",
       "[5 rows x 25 columns]"
      ]
     },
     "execution_count": 4,
     "metadata": {},
     "output_type": "execute_result"
    }
   ],
   "source": [
    "# preview 2019 Team Dataset\n",
    "team_2019 = datasets['2019 Team']\n",
    "team_2019.head()"
   ]
  },
  {
   "cell_type": "code",
   "execution_count": 16,
   "metadata": {},
   "outputs": [
    {
     "name": "stdout",
     "output_type": "stream",
     "text": [
      "Regression Coefficient: 0.9068932865452393\n"
     ]
    },
    {
     "data": {
      "image/png": "[encoded data removed]",
      "text/plain": [
       "<Figure size 360x360 with 1 Axes>"
      ]
     },
     "metadata": {},
     "output_type": "display_data"
    }
   ],
   "source": [
    "# plot FG against FGA for 2019 Team Data\n",
    "fg_x = team_2019['FG'].to_numpy().reshape(-1, 1)\n",
    "fga_y = team_2019['FGA'].to_numpy()\n",
    "lin_reg = LinearRegression().fit(fg_x, fga_y)\n",
    "sns.lmplot(x='FG', y='FGA', data=team_2019)\n",
    "print('Regression Coefficient: ' + str(lin_reg.coef_[0]))"
   ]
  },
  {
   "cell_type": "code",
   "execution_count": 18,
   "metadata": {},
   "outputs": [
    {
     "name": "stdout",
     "output_type": "stream",
     "text": [
      "Regression Coefficient: 0.651197950235929\n"
     ]
    },
    {
     "data": {
      "image/png": "[encoded data removed]",
      "text/plain": [
       "<Figure size 360x360 with 1 Axes>"
      ]
     },
     "metadata": {},
     "output_type": "display_data"
    }
   ],
   "source": [
    "# plot FG against FG% for 2019 Team Data\n",
    "fg_x = team_2019['FG'].to_numpy().reshape(-1, 1)\n",
    "fgp_y = team_2019['FG%'].to_numpy()\n",
    "lin_reg = LinearRegression().fit(fg_x, fgp_y)\n",
    "sns.lmplot(x='FG', y='FG%', data=team_2019)\n",
    "print('Regression Coefficient: ' + str(lin_reg.coef_[0] * 100))"
   ]
  },
  {
   "cell_type": "code",
   "execution_count": 20,
   "metadata": {},
   "outputs": [
    {
     "name": "stdout",
     "output_type": "stream",
     "text": [
      "Regression Coefficient: 0.12359674059123006\n"
     ]
    },
    {
     "data": {
      "image/png": "[encoded data removed]",
      "text/plain": [
       "<Figure size 360x360 with 1 Axes>"
      ]
     },
     "metadata": {},
     "output_type": "display_data"
    }
   ],
   "source": [
    "# plot FGA against FG% for 2019 Team Data\n",
    "fga_x = team_2019['FGA'].to_numpy().reshape(-1, 1)\n",
    "fgp_y = team_2019['FG%'].to_numpy()\n",
    "lin_reg = LinearRegression().fit(fga_x, fgp_y)\n",
    "sns.lmplot(x='FGA', y='FG%', data=team_2019)\n",
    "print('Regression Coefficient: ' + str(lin_reg.coef_[0] * 100))"
   ]
  },
  {
   "cell_type": "code",
   "execution_count": null,
   "metadata": {},
   "outputs": [],
   "source": []
  },
  {
   "cell_type": "markdown",
   "metadata": {},
   "source": [
    "### Data Cleaning and Aggregation"
   ]
  },
  {
   "cell_type": "code",
   "execution_count": 29,
   "metadata": {},
   "outputs": [],
   "source": [
    "np_datasets = {} ##this will be a dictionary of arrays\n",
    "for key, value in datasets.items():\n",
    "    season_data = value\n",
    "    #if \"Misc\" in key:\n",
    "       # print(\"\") #use panda command to drop necessary stats\n",
    "    #elif \"Team\" in key:\n",
    "     #   print(\"\") #use panda command to drop necessary stats\n",
    "    #elif \"Opponent\" in key:\n",
    "    #    print(\"\") #use panda command to drop necessary stats\n",
    "    #if key[0:4] in np_datasets:\n",
    "     #   np_datasets[key[0:4]].append(season_data.to_numpy())\n",
    "    #else:\n",
    "    np_datasets[key[0:4]] = [season_data.to_numpy()]"
   ]
  },
  {
   "cell_type": "markdown",
   "metadata": {},
   "source": [
    "### Sample K-Means Analysis"
   ]
  },
  {
   "cell_type": "code",
   "execution_count": 21,
   "metadata": {},
   "outputs": [
    {
     "data": {
      "text/html": [
       "<div>\n",
       "<style scoped>\n",
       "    .dataframe tbody tr th:only-of-type {\n",
       "        vertical-align: middle;\n",
       "    }\n",
       "\n",
       "    .dataframe tbody tr th {\n",
       "        vertical-align: top;\n",
       "    }\n",
       "\n",
       "    .dataframe thead th {\n",
       "        text-align: right;\n",
       "    }\n",
       "</style>\n",
       "<table border=\"1\" class=\"dataframe\">\n",
       "  <thead>\n",
       "    <tr style=\"text-align: right;\">\n",
       "      <th></th>\n",
       "      <th>FGA</th>\n",
       "      <th>FG%</th>\n",
       "      <th>3P</th>\n",
       "      <th>3PA</th>\n",
       "      <th>3P%</th>\n",
       "      <th>2P</th>\n",
       "      <th>2PA</th>\n",
       "      <th>2P%</th>\n",
       "      <th>FT</th>\n",
       "      <th>FTA</th>\n",
       "      <th>FT%</th>\n",
       "      <th>ORB</th>\n",
       "      <th>DRB</th>\n",
       "      <th>TRB</th>\n",
       "      <th>AST</th>\n",
       "      <th>STL</th>\n",
       "      <th>BLK</th>\n",
       "      <th>TOV</th>\n",
       "      <th>PF</th>\n",
       "      <th>PTS</th>\n",
       "    </tr>\n",
       "  </thead>\n",
       "  <tbody>\n",
       "    <tr>\n",
       "      <th>0</th>\n",
       "      <td>91.1</td>\n",
       "      <td>0.476</td>\n",
       "      <td>13.5</td>\n",
       "      <td>38.2</td>\n",
       "      <td>0.353</td>\n",
       "      <td>29.9</td>\n",
       "      <td>52.9</td>\n",
       "      <td>0.565</td>\n",
       "      <td>17.9</td>\n",
       "      <td>23.2</td>\n",
       "      <td>0.773</td>\n",
       "      <td>9.3</td>\n",
       "      <td>40.4</td>\n",
       "      <td>49.7</td>\n",
       "      <td>26.0</td>\n",
       "      <td>7.5</td>\n",
       "      <td>5.9</td>\n",
       "      <td>13.9</td>\n",
       "      <td>19.6</td>\n",
       "      <td>118.1</td>\n",
       "    </tr>\n",
       "    <tr>\n",
       "      <th>1</th>\n",
       "      <td>89.8</td>\n",
       "      <td>0.491</td>\n",
       "      <td>13.3</td>\n",
       "      <td>34.4</td>\n",
       "      <td>0.385</td>\n",
       "      <td>30.8</td>\n",
       "      <td>55.3</td>\n",
       "      <td>0.557</td>\n",
       "      <td>16.3</td>\n",
       "      <td>20.4</td>\n",
       "      <td>0.801</td>\n",
       "      <td>9.7</td>\n",
       "      <td>36.5</td>\n",
       "      <td>46.2</td>\n",
       "      <td>29.4</td>\n",
       "      <td>7.6</td>\n",
       "      <td>6.4</td>\n",
       "      <td>14.3</td>\n",
       "      <td>21.4</td>\n",
       "      <td>117.7</td>\n",
       "    </tr>\n",
       "    <tr>\n",
       "      <th>2</th>\n",
       "      <td>92.2</td>\n",
       "      <td>0.473</td>\n",
       "      <td>10.3</td>\n",
       "      <td>29.9</td>\n",
       "      <td>0.344</td>\n",
       "      <td>33.4</td>\n",
       "      <td>62.4</td>\n",
       "      <td>0.536</td>\n",
       "      <td>17.8</td>\n",
       "      <td>23.4</td>\n",
       "      <td>0.761</td>\n",
       "      <td>11.1</td>\n",
       "      <td>36.2</td>\n",
       "      <td>47.3</td>\n",
       "      <td>27.0</td>\n",
       "      <td>7.4</td>\n",
       "      <td>5.4</td>\n",
       "      <td>14.8</td>\n",
       "      <td>21.1</td>\n",
       "      <td>115.4</td>\n",
       "    </tr>\n",
       "    <tr>\n",
       "      <th>3</th>\n",
       "      <td>88.2</td>\n",
       "      <td>0.471</td>\n",
       "      <td>10.8</td>\n",
       "      <td>30.2</td>\n",
       "      <td>0.359</td>\n",
       "      <td>30.7</td>\n",
       "      <td>58.0</td>\n",
       "      <td>0.529</td>\n",
       "      <td>21.2</td>\n",
       "      <td>27.5</td>\n",
       "      <td>0.771</td>\n",
       "      <td>10.9</td>\n",
       "      <td>36.9</td>\n",
       "      <td>47.8</td>\n",
       "      <td>26.9</td>\n",
       "      <td>7.4</td>\n",
       "      <td>5.3</td>\n",
       "      <td>14.9</td>\n",
       "      <td>21.3</td>\n",
       "      <td>115.2</td>\n",
       "    </tr>\n",
       "    <tr>\n",
       "      <th>4</th>\n",
       "      <td>87.5</td>\n",
       "      <td>0.471</td>\n",
       "      <td>10.0</td>\n",
       "      <td>25.8</td>\n",
       "      <td>0.388</td>\n",
       "      <td>31.3</td>\n",
       "      <td>61.7</td>\n",
       "      <td>0.507</td>\n",
       "      <td>22.6</td>\n",
       "      <td>28.5</td>\n",
       "      <td>0.792</td>\n",
       "      <td>9.7</td>\n",
       "      <td>35.8</td>\n",
       "      <td>45.5</td>\n",
       "      <td>24.0</td>\n",
       "      <td>6.8</td>\n",
       "      <td>4.7</td>\n",
       "      <td>14.5</td>\n",
       "      <td>23.3</td>\n",
       "      <td>115.1</td>\n",
       "    </tr>\n",
       "  </tbody>\n",
       "</table>\n",
       "</div>"
      ],
      "text/plain": [
       "    FGA    FG%    3P   3PA    3P%    2P   2PA    2P%    FT   FTA    FT%   ORB  \\\n",
       "0  91.1  0.476  13.5  38.2  0.353  29.9  52.9  0.565  17.9  23.2  0.773   9.3   \n",
       "1  89.8  0.491  13.3  34.4  0.385  30.8  55.3  0.557  16.3  20.4  0.801   9.7   \n",
       "2  92.2  0.473  10.3  29.9  0.344  33.4  62.4  0.536  17.8  23.4  0.761  11.1   \n",
       "3  88.2  0.471  10.8  30.2  0.359  30.7  58.0  0.529  21.2  27.5  0.771  10.9   \n",
       "4  87.5  0.471  10.0  25.8  0.388  31.3  61.7  0.507  22.6  28.5  0.792   9.7   \n",
       "\n",
       "    DRB   TRB   AST  STL  BLK   TOV    PF    PTS  \n",
       "0  40.4  49.7  26.0  7.5  5.9  13.9  19.6  118.1  \n",
       "1  36.5  46.2  29.4  7.6  6.4  14.3  21.4  117.7  \n",
       "2  36.2  47.3  27.0  7.4  5.4  14.8  21.1  115.4  \n",
       "3  36.9  47.8  26.9  7.4  5.3  14.9  21.3  115.2  \n",
       "4  35.8  45.5  24.0  6.8  4.7  14.5  23.3  115.1  "
      ]
     },
     "execution_count": 21,
     "metadata": {},
     "output_type": "execute_result"
    }
   ],
   "source": [
    "# isolate necessary features from the Team 2019 dataset\n",
    "team_2019_features = team_2019.drop(['Rk', 'Team', 'G', 'MP', 'FG'], axis=1)\n",
    "team_2019_features.head()"
   ]
  },
  {
   "cell_type": "code",
   "execution_count": 22,
   "metadata": {},
   "outputs": [],
   "source": [
    "# use standard scaler to adjust data to have 0 mean and 1 standard deviation\n",
    "team_2019_std = StandardScaler().fit_transform(team_2019_features)\n",
    "\n",
    "# use PCA to reduce data to two dimensions\n",
    "pca = PCA(n_components=2)\n",
    "team_2019_pca = pca.fit_transform(team_2019_std)"
   ]
  },
  {
   "cell_type": "code",
   "execution_count": 23,
   "metadata": {},
   "outputs": [],
   "source": [
    "# generate sample Kmeans using 2019 Team Data\n",
    "kmeans = KMeans(n_clusters=5).fit(team_2019_pca)\n",
    "kmeans_predictions = kmeans.predict(team_2019_pca)"
   ]
  },
  {
   "cell_type": "code",
   "execution_count": 24,
   "metadata": {},
   "outputs": [
    {
     "data": {
      "text/plain": [
       "<matplotlib.axes._subplots.AxesSubplot at 0x7fbf91fdd690>"
      ]
     },
     "execution_count": 24,
     "metadata": {},
     "output_type": "execute_result"
    },
    {
     "data": {
      "image/png": "[encoded data removed]",
      "text/plain": [
       "<Figure size 432x288 with 1 Axes>"
      ]
     },
     "metadata": {},
     "output_type": "display_data"
    }
   ],
   "source": [
    "# plot K Means clusters using Seaborn\n",
    "\n",
    "# plot cluster centers\n",
    "sns.scatterplot(x=kmeans.cluster_centers_[:, 0], y=kmeans.cluster_centers_[:, 1])\n",
    "\n",
    "# plot data color coded based on cluster\n",
    "sns.scatterplot(x=team_2019_pca[:, 0], y=team_2019_pca[:, 1], hue=kmeans_predictions, palette='Pastel1')"
   ]
  },
  {
   "cell_type": "markdown",
   "metadata": {},
   "source": [
    "### Scratch Code Work"
   ]
  },
  {
   "cell_type": "code",
   "execution_count": 43,
   "metadata": {},
   "outputs": [],
   "source": [
    "misc_2010_pand = datasets['2019 Misc']\n",
    "misc_2010_pand = misc_2010_pand.drop(['Rk','Team','Age', 'PW', 'PL', 'MOV', 'SOS', 'SRS', 'W', 'L', 'NRtg'], axis = 1)\n",
    "team_2010_pand = datasets['2010 Team']\n",
    "team_2010_pand = team_2010_pand.drop(['Rk', 'Team', 'G'], axis = 1)\n",
    "team_2010_pand\n",
    "team_2010 = datasets['2010 Team'].to_numpy()\n",
    "#misc_2010 = datasets['2010 Misc'].to_numpy()\n",
    "#oppon_2010 = datasets['2010 Opponent']\n"
   ]
  },
  {
   "cell_type": "code",
   "execution_count": 39,
   "metadata": {},
   "outputs": [
    {
     "data": {
      "text/plain": [
       "Text(0, 0.5, 'PCA 2')"
      ]
     },
     "execution_count": 39,
     "metadata": {},
     "output_type": "execute_result"
    },
    {
     "data": {
      "image/png": "[encoded data removed]",
      "text/plain": [
       "<Figure size 432x288 with 1 Axes>"
      ]
     },
     "metadata": {
      "needs_background": "light"
     },
     "output_type": "display_data"
    }
   ],
   "source": [
    "team_2010_std = StandardScaler().fit_transform(team_2010_pand)\n",
    "pca = PCA(n_components=2)\n",
    "pc = pca.fit_transform(team_2010_std)\n",
    "PCA_components = pd.DataFrame(pc)\n",
    "plt.scatter(PCA_components[0], PCA_components[1], alpha=.1, color='black')\n",
    "plt.xlabel('PCA 1')\n",
    "plt.ylabel('PCA 2')"
   ]
  },
  {
   "cell_type": "code",
   "execution_count": 40,
   "metadata": {},
   "outputs": [
    {
     "data": {
      "image/png": "[encoded data removed]",
      "text/plain": [
       "<Figure size 432x288 with 1 Axes>"
      ]
     },
     "metadata": {
      "needs_background": "light"
     },
     "output_type": "display_data"
    },
    {
     "data": {
      "text/plain": [
       "<matplotlib.collections.PathCollection at 0x12d8e4d30>"
      ]
     },
     "execution_count": 40,
     "metadata": {},
     "output_type": "execute_result"
    },
    {
     "data": {
      "image/png": "[encoded data removed]",
      "text/plain": [
       "<Figure size 432x288 with 1 Axes>"
      ]
     },
     "metadata": {
      "needs_background": "light"
     },
     "output_type": "display_data"
    }
   ],
   "source": [
    "ks = range(1, 10)\n",
    "inertias = []\n",
    "for k in ks:\n",
    "    # Create a KMeans instance with k clusters: model\n",
    "    model = KMeans(n_clusters=k)\n",
    "    \n",
    "    # Fit model to samples\n",
    "    model.fit(PCA_components.iloc[:,:3])\n",
    "    \n",
    "    # Append the inertia to the list of inertias\n",
    "    inertias.append(model.inertia_)\n",
    "\n",
    "#Plotting graph to find the elbow point for K-means\n",
    "plt.plot(ks, inertias, '-o', color='black')\n",
    "plt.xlabel('number of clusters, k')\n",
    "plt.ylabel('inertia')\n",
    "plt.xticks(ks)\n",
    "plt.show()\n",
    "kmeans = KMeans(n_clusters=4)\n",
    "kmeans.fit(PCA_components)\n",
    "y_kmeans = kmeans.predict(PCA_components)\n",
    "plt.scatter(PCA_components.to_numpy()[:,0], PCA_components.to_numpy()[:,1], c=y_kmeans, cmap='viridis')\n",
    "centers = kmeans.cluster_centers_\n",
    "plt.scatter(centers[:, 0], centers[:, 1], c='black', s=200, alpha=0.5)"
   ]
  },
  {
   "cell_type": "code",
   "execution_count": 42,
   "metadata": {},
   "outputs": [
    {
     "ename": "NameError",
     "evalue": "name 'team_2010' is not defined",
     "output_type": "error",
     "traceback": [
      "\u001b[0;31m---------------------------------------------------------------------------\u001b[0m",
      "\u001b[0;31mNameError\u001b[0m                                 Traceback (most recent call last)",
      "\u001b[0;32m<ipython-input-42-524686fd2000>\u001b[0m in \u001b[0;36m<module>\u001b[0;34m\u001b[0m\n\u001b[0;32m----> 1\u001b[0;31m \u001b[0mfg_percent\u001b[0m \u001b[0;34m=\u001b[0m \u001b[0mteam_2010\u001b[0m\u001b[0;34m[\u001b[0m\u001b[0;34m'FG%'\u001b[0m\u001b[0;34m]\u001b[0m\u001b[0;34m.\u001b[0m\u001b[0mto_numpy\u001b[0m\u001b[0;34m(\u001b[0m\u001b[0;34m)\u001b[0m\u001b[0;34m.\u001b[0m\u001b[0mreshape\u001b[0m\u001b[0;34m(\u001b[0m\u001b[0;34m-\u001b[0m\u001b[0;36m1\u001b[0m\u001b[0;34m,\u001b[0m\u001b[0;36m1\u001b[0m\u001b[0;34m)\u001b[0m\u001b[0;34m\u001b[0m\u001b[0;34m\u001b[0m\u001b[0m\n\u001b[0m\u001b[1;32m      2\u001b[0m \u001b[0mthreep_percent\u001b[0m \u001b[0;34m=\u001b[0m \u001b[0mteam_2010\u001b[0m\u001b[0;34m[\u001b[0m\u001b[0;34m'3P%'\u001b[0m\u001b[0;34m]\u001b[0m\u001b[0;34m.\u001b[0m\u001b[0mto_numpy\u001b[0m\u001b[0;34m(\u001b[0m\u001b[0;34m)\u001b[0m\u001b[0;34m.\u001b[0m\u001b[0mreshape\u001b[0m\u001b[0;34m(\u001b[0m\u001b[0;34m-\u001b[0m\u001b[0;36m1\u001b[0m\u001b[0;34m,\u001b[0m\u001b[0;36m1\u001b[0m\u001b[0;34m)\u001b[0m\u001b[0;34m\u001b[0m\u001b[0;34m\u001b[0m\u001b[0m\n\u001b[1;32m      3\u001b[0m \u001b[0mreg\u001b[0m \u001b[0;34m=\u001b[0m \u001b[0mLinearRegression\u001b[0m\u001b[0;34m(\u001b[0m\u001b[0;34m)\u001b[0m\u001b[0;34m\u001b[0m\u001b[0;34m\u001b[0m\u001b[0m\n\u001b[1;32m      4\u001b[0m \u001b[0mreg\u001b[0m\u001b[0;34m.\u001b[0m\u001b[0mfit\u001b[0m\u001b[0;34m(\u001b[0m\u001b[0mfg_percent\u001b[0m\u001b[0;34m,\u001b[0m \u001b[0mthreep_percent\u001b[0m\u001b[0;34m)\u001b[0m\u001b[0;34m\u001b[0m\u001b[0;34m\u001b[0m\u001b[0m\n\u001b[1;32m      5\u001b[0m \u001b[0mreg_pred\u001b[0m \u001b[0;34m=\u001b[0m \u001b[0mreg\u001b[0m\u001b[0;34m.\u001b[0m\u001b[0mpredict\u001b[0m\u001b[0;34m(\u001b[0m\u001b[0mfg_percent\u001b[0m\u001b[0;34m)\u001b[0m\u001b[0;34m\u001b[0m\u001b[0;34m\u001b[0m\u001b[0m\n",
      "\u001b[0;31mNameError\u001b[0m: name 'team_2010' is not defined"
     ]
    }
   ],
   "source": [
    "fg_percent = team_2010['FG%'].to_numpy().reshape(-1,1)\n",
    "threep_percent = team_2010['3P%'].to_numpy().reshape(-1,1)\n",
    "reg = LinearRegression()\n",
    "reg.fit(fg_percent, threep_percent)\n",
    "reg_pred = reg.predict(fg_percent)\n",
    "plt.scatter(fg_percent, threep_percent)\n",
    "plt.plot(fg_percent, reg_pred, color='blue', linewidth=3)\n",
    "plt.show()\n",
    "sample_plot = sns.regplot(x = 'FG%', y = '3P%', data = team_2010)\n",
    "\n",
    "\n",
    "\n"
   ]
  }
 ],
 "metadata": {
  "kernelspec": {
   "display_name": "Python 3",
   "language": "python",
   "name": "python3"
  },
  "language_info": {
   "codemirror_mode": {
    "name": "ipython",
    "version": 3
   },
   "file_extension": ".py",
   "mimetype": "text/x-python",
   "name": "python",
   "nbconvert_exporter": "python",
   "pygments_lexer": "ipython3",
   "version": "3.7.6"
  }
 },
 "nbformat": 4,
 "nbformat_minor": 4
}
