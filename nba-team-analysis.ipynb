{
 "cells": [
  {
   "cell_type": "markdown",
   "metadata": {},
   "source": [
    "# NBA Team Clustering Analysis Project\n",
    "\n",
    "Within the NBA, there are many different types of team play styles. For instance, some teams focus on three point shooting, while others emphasize defense and rebounding. The goal of this project is to use dimensionality reduction and K-means clustering analysis to identify distinct clusters of different team play styles throughout the NBA. Furthermore, by comparing the different play styles with total wins within the league, it is possible to see whether there is a dominant team play style or set of styles in the NBA. Finally, by performing this analysis on historical data dating back to the 1976 season (first season after the merger between the ABA and NBA), it is possible to identify trends in how the play style of the league as a whole has shifted over time.\n",
    "\n",
    "Creators: Karthik Guruvayurappan and Akshay Gopalkrishnan\n",
    "\n",
    "Data Source: basketball-reference.com"
   ]
  },
  {
   "cell_type": "code",
   "execution_count": 11,
   "metadata": {},
   "outputs": [],
   "source": [
    "# import necessary packages for data analysis\n",
    "import os\n",
    "import numpy as np\n",
    "import pandas as pd\n",
    "import matplotlib.pyplot as plt\n",
    "import seaborn as sns;\n",
    "from sklearn.cluster import KMeans\n",
    "from sklearn.decomposition import PCA\n",
    "from sklearn.preprocessing import StandardScaler\n",
    "from sklearn.linear_model import LinearRegression\n",
    "from sklearn import datasets, linear_model"
   ]
  },
  {
   "cell_type": "markdown",
   "metadata": {},
   "source": [
    "### Formatting Datasets from basketball-reference.com into Dictionary\n",
    "\n",
    "This cell formats all of the datasets collected from basketball-reference.com into a dictionary format. To access the datasets, the keys are in the format: 'Year Type'. The datasets are read in as pandas DataFrames\n",
    "\n",
    "Available Years Include: 1976, 1980, 1985, 1990, 1995, 2000, 2005, 2010, 2015, 2019\n",
    "\n",
    "Available Dataset Types Include: Team, Opponent, Misc, Standings\n",
    "\n",
    "A sample statement to access a dataset would be: team_2019 = datasets['2019 Team']"
   ]
  },
  {
   "cell_type": "code",
   "execution_count": 15,
   "metadata": {
    "scrolled": false
   },
   "outputs": [],
   "source": [
    "# create a list to hold all dataset names\n",
    "dataset_list = []\n",
    "\n",
    "# adds all CSV files from the datasets folder to a list\n",
    "for dataset in os.listdir('./Datasets'):\n",
    "    if (dataset.endswith('.csv')):\n",
    "        dataset_list.append(dataset)\n",
    "\n",
    "# adds all datasets to a dictionary with the key being 'Year Type' \n",
    "datasets = {}\n",
    "for dataset in dataset_list:\n",
    "    data_file = pd.read_csv('./Datasets/' + dataset)\n",
    "    dataset_name = dataset[dataset.index('- ') + 1 : dataset.index('.')].strip()\n",
    "    datasets[dataset_name] = data_file"
   ]
  },
  {
   "cell_type": "markdown",
   "metadata": {},
   "source": [
    "### Exploratory Data Analysis\n",
    "\n"
   ]
  },
  {
   "cell_type": "code",
   "execution_count": 13,
   "metadata": {},
   "outputs": [
    {
     "data": {
      "text/html": [
       "<div>\n",
       "<style scoped>\n",
       "    .dataframe tbody tr th:only-of-type {\n",
       "        vertical-align: middle;\n",
       "    }\n",
       "\n",
       "    .dataframe tbody tr th {\n",
       "        vertical-align: top;\n",
       "    }\n",
       "\n",
       "    .dataframe thead th {\n",
       "        text-align: right;\n",
       "    }\n",
       "</style>\n",
       "<table border=\"1\" class=\"dataframe\">\n",
       "  <thead>\n",
       "    <tr style=\"text-align: right;\">\n",
       "      <th></th>\n",
       "      <th>Rk</th>\n",
       "      <th>Team</th>\n",
       "      <th>G</th>\n",
       "      <th>MP</th>\n",
       "      <th>FG</th>\n",
       "      <th>FGA</th>\n",
       "      <th>FG%</th>\n",
       "      <th>3P</th>\n",
       "      <th>3PA</th>\n",
       "      <th>3P%</th>\n",
       "      <th>...</th>\n",
       "      <th>FT%</th>\n",
       "      <th>ORB</th>\n",
       "      <th>DRB</th>\n",
       "      <th>TRB</th>\n",
       "      <th>AST</th>\n",
       "      <th>STL</th>\n",
       "      <th>BLK</th>\n",
       "      <th>TOV</th>\n",
       "      <th>PF</th>\n",
       "      <th>PTS</th>\n",
       "    </tr>\n",
       "  </thead>\n",
       "  <tbody>\n",
       "    <tr>\n",
       "      <th>0</th>\n",
       "      <td>1.0</td>\n",
       "      <td>Milwaukee Bucks*</td>\n",
       "      <td>82</td>\n",
       "      <td>241.2</td>\n",
       "      <td>43.4</td>\n",
       "      <td>91.1</td>\n",
       "      <td>0.476</td>\n",
       "      <td>13.5</td>\n",
       "      <td>38.2</td>\n",
       "      <td>0.353</td>\n",
       "      <td>...</td>\n",
       "      <td>0.773</td>\n",
       "      <td>9.3</td>\n",
       "      <td>40.4</td>\n",
       "      <td>49.7</td>\n",
       "      <td>26.0</td>\n",
       "      <td>7.5</td>\n",
       "      <td>5.9</td>\n",
       "      <td>13.9</td>\n",
       "      <td>19.6</td>\n",
       "      <td>118.1</td>\n",
       "    </tr>\n",
       "    <tr>\n",
       "      <th>1</th>\n",
       "      <td>2.0</td>\n",
       "      <td>Golden State Warriors*</td>\n",
       "      <td>82</td>\n",
       "      <td>241.5</td>\n",
       "      <td>44.0</td>\n",
       "      <td>89.8</td>\n",
       "      <td>0.491</td>\n",
       "      <td>13.3</td>\n",
       "      <td>34.4</td>\n",
       "      <td>0.385</td>\n",
       "      <td>...</td>\n",
       "      <td>0.801</td>\n",
       "      <td>9.7</td>\n",
       "      <td>36.5</td>\n",
       "      <td>46.2</td>\n",
       "      <td>29.4</td>\n",
       "      <td>7.6</td>\n",
       "      <td>6.4</td>\n",
       "      <td>14.3</td>\n",
       "      <td>21.4</td>\n",
       "      <td>117.7</td>\n",
       "    </tr>\n",
       "    <tr>\n",
       "      <th>2</th>\n",
       "      <td>3.0</td>\n",
       "      <td>New Orleans Pelicans</td>\n",
       "      <td>82</td>\n",
       "      <td>240.9</td>\n",
       "      <td>43.7</td>\n",
       "      <td>92.2</td>\n",
       "      <td>0.473</td>\n",
       "      <td>10.3</td>\n",
       "      <td>29.9</td>\n",
       "      <td>0.344</td>\n",
       "      <td>...</td>\n",
       "      <td>0.761</td>\n",
       "      <td>11.1</td>\n",
       "      <td>36.2</td>\n",
       "      <td>47.3</td>\n",
       "      <td>27.0</td>\n",
       "      <td>7.4</td>\n",
       "      <td>5.4</td>\n",
       "      <td>14.8</td>\n",
       "      <td>21.1</td>\n",
       "      <td>115.4</td>\n",
       "    </tr>\n",
       "    <tr>\n",
       "      <th>3</th>\n",
       "      <td>4.0</td>\n",
       "      <td>Philadelphia 76ers*</td>\n",
       "      <td>82</td>\n",
       "      <td>241.5</td>\n",
       "      <td>41.5</td>\n",
       "      <td>88.2</td>\n",
       "      <td>0.471</td>\n",
       "      <td>10.8</td>\n",
       "      <td>30.2</td>\n",
       "      <td>0.359</td>\n",
       "      <td>...</td>\n",
       "      <td>0.771</td>\n",
       "      <td>10.9</td>\n",
       "      <td>36.9</td>\n",
       "      <td>47.8</td>\n",
       "      <td>26.9</td>\n",
       "      <td>7.4</td>\n",
       "      <td>5.3</td>\n",
       "      <td>14.9</td>\n",
       "      <td>21.3</td>\n",
       "      <td>115.2</td>\n",
       "    </tr>\n",
       "    <tr>\n",
       "      <th>4</th>\n",
       "      <td>5.0</td>\n",
       "      <td>Los Angeles Clippers*</td>\n",
       "      <td>82</td>\n",
       "      <td>241.8</td>\n",
       "      <td>41.3</td>\n",
       "      <td>87.5</td>\n",
       "      <td>0.471</td>\n",
       "      <td>10.0</td>\n",
       "      <td>25.8</td>\n",
       "      <td>0.388</td>\n",
       "      <td>...</td>\n",
       "      <td>0.792</td>\n",
       "      <td>9.7</td>\n",
       "      <td>35.8</td>\n",
       "      <td>45.5</td>\n",
       "      <td>24.0</td>\n",
       "      <td>6.8</td>\n",
       "      <td>4.7</td>\n",
       "      <td>14.5</td>\n",
       "      <td>23.3</td>\n",
       "      <td>115.1</td>\n",
       "    </tr>\n",
       "  </tbody>\n",
       "</table>\n",
       "<p>5 rows × 25 columns</p>\n",
       "</div>"
      ],
      "text/plain": [
       "    Rk                    Team   G     MP    FG   FGA    FG%    3P   3PA  \\\n",
       "0  1.0        Milwaukee Bucks*  82  241.2  43.4  91.1  0.476  13.5  38.2   \n",
       "1  2.0  Golden State Warriors*  82  241.5  44.0  89.8  0.491  13.3  34.4   \n",
       "2  3.0    New Orleans Pelicans  82  240.9  43.7  92.2  0.473  10.3  29.9   \n",
       "3  4.0     Philadelphia 76ers*  82  241.5  41.5  88.2  0.471  10.8  30.2   \n",
       "4  5.0   Los Angeles Clippers*  82  241.8  41.3  87.5  0.471  10.0  25.8   \n",
       "\n",
       "     3P%  ...    FT%   ORB   DRB   TRB   AST  STL  BLK   TOV    PF    PTS  \n",
       "0  0.353  ...  0.773   9.3  40.4  49.7  26.0  7.5  5.9  13.9  19.6  118.1  \n",
       "1  0.385  ...  0.801   9.7  36.5  46.2  29.4  7.6  6.4  14.3  21.4  117.7  \n",
       "2  0.344  ...  0.761  11.1  36.2  47.3  27.0  7.4  5.4  14.8  21.1  115.4  \n",
       "3  0.359  ...  0.771  10.9  36.9  47.8  26.9  7.4  5.3  14.9  21.3  115.2  \n",
       "4  0.388  ...  0.792   9.7  35.8  45.5  24.0  6.8  4.7  14.5  23.3  115.1  \n",
       "\n",
       "[5 rows x 25 columns]"
      ]
     },
     "execution_count": 13,
     "metadata": {},
     "output_type": "execute_result"
    }
   ],
   "source": [
    "# preview 2019 Team Dataset\n",
    "team_2019 = datasets['2019 Team']\n",
    "team_2019.head()"
   ]
  },
  {
   "cell_type": "code",
   "execution_count": 14,
   "metadata": {},
   "outputs": [
    {
     "data": {
      "text/plain": [
       "<matplotlib.axes._subplots.AxesSubplot at 0x7f7f75795110>"
      ]
     },
     "execution_count": 14,
     "metadata": {},
     "output_type": "execute_result"
    },
    {
     "data": {
      "image/png": "[encoded data removed]",
      "text/plain": [
       "<Figure size 432x288 with 1 Axes>"
      ]
     },
     "metadata": {},
     "output_type": "display_data"
    }
   ],
   "source": [
    "# plot FG% against 3P% for 2019 Team Data\n",
    "sns.scatterplot(x='FG%', y='3P%', data=team_2019)"
   ]
  },
  {
   "cell_type": "markdown",
   "metadata": {},
   "source": [
    "### Sample K-Means Analysis"
   ]
  },
  {
   "cell_type": "code",
   "execution_count": 18,
   "metadata": {},
   "outputs": [
    {
     "data": {
      "text/html": [
       "<div>\n",
       "<style scoped>\n",
       "    .dataframe tbody tr th:only-of-type {\n",
       "        vertical-align: middle;\n",
       "    }\n",
       "\n",
       "    .dataframe tbody tr th {\n",
       "        vertical-align: top;\n",
       "    }\n",
       "\n",
       "    .dataframe thead th {\n",
       "        text-align: right;\n",
       "    }\n",
       "</style>\n",
       "<table border=\"1\" class=\"dataframe\">\n",
       "  <thead>\n",
       "    <tr style=\"text-align: right;\">\n",
       "      <th></th>\n",
       "      <th>FG</th>\n",
       "      <th>FGA</th>\n",
       "      <th>FG%</th>\n",
       "      <th>3P</th>\n",
       "      <th>3PA</th>\n",
       "      <th>3P%</th>\n",
       "      <th>2P</th>\n",
       "      <th>2PA</th>\n",
       "      <th>2P%</th>\n",
       "      <th>FT</th>\n",
       "      <th>...</th>\n",
       "      <th>FT%</th>\n",
       "      <th>ORB</th>\n",
       "      <th>DRB</th>\n",
       "      <th>TRB</th>\n",
       "      <th>AST</th>\n",
       "      <th>STL</th>\n",
       "      <th>BLK</th>\n",
       "      <th>TOV</th>\n",
       "      <th>PF</th>\n",
       "      <th>PTS</th>\n",
       "    </tr>\n",
       "  </thead>\n",
       "  <tbody>\n",
       "    <tr>\n",
       "      <th>0</th>\n",
       "      <td>43.4</td>\n",
       "      <td>91.1</td>\n",
       "      <td>0.476</td>\n",
       "      <td>13.5</td>\n",
       "      <td>38.2</td>\n",
       "      <td>0.353</td>\n",
       "      <td>29.9</td>\n",
       "      <td>52.9</td>\n",
       "      <td>0.565</td>\n",
       "      <td>17.9</td>\n",
       "      <td>...</td>\n",
       "      <td>0.773</td>\n",
       "      <td>9.3</td>\n",
       "      <td>40.4</td>\n",
       "      <td>49.7</td>\n",
       "      <td>26.0</td>\n",
       "      <td>7.5</td>\n",
       "      <td>5.9</td>\n",
       "      <td>13.9</td>\n",
       "      <td>19.6</td>\n",
       "      <td>118.1</td>\n",
       "    </tr>\n",
       "    <tr>\n",
       "      <th>1</th>\n",
       "      <td>44.0</td>\n",
       "      <td>89.8</td>\n",
       "      <td>0.491</td>\n",
       "      <td>13.3</td>\n",
       "      <td>34.4</td>\n",
       "      <td>0.385</td>\n",
       "      <td>30.8</td>\n",
       "      <td>55.3</td>\n",
       "      <td>0.557</td>\n",
       "      <td>16.3</td>\n",
       "      <td>...</td>\n",
       "      <td>0.801</td>\n",
       "      <td>9.7</td>\n",
       "      <td>36.5</td>\n",
       "      <td>46.2</td>\n",
       "      <td>29.4</td>\n",
       "      <td>7.6</td>\n",
       "      <td>6.4</td>\n",
       "      <td>14.3</td>\n",
       "      <td>21.4</td>\n",
       "      <td>117.7</td>\n",
       "    </tr>\n",
       "    <tr>\n",
       "      <th>2</th>\n",
       "      <td>43.7</td>\n",
       "      <td>92.2</td>\n",
       "      <td>0.473</td>\n",
       "      <td>10.3</td>\n",
       "      <td>29.9</td>\n",
       "      <td>0.344</td>\n",
       "      <td>33.4</td>\n",
       "      <td>62.4</td>\n",
       "      <td>0.536</td>\n",
       "      <td>17.8</td>\n",
       "      <td>...</td>\n",
       "      <td>0.761</td>\n",
       "      <td>11.1</td>\n",
       "      <td>36.2</td>\n",
       "      <td>47.3</td>\n",
       "      <td>27.0</td>\n",
       "      <td>7.4</td>\n",
       "      <td>5.4</td>\n",
       "      <td>14.8</td>\n",
       "      <td>21.1</td>\n",
       "      <td>115.4</td>\n",
       "    </tr>\n",
       "    <tr>\n",
       "      <th>3</th>\n",
       "      <td>41.5</td>\n",
       "      <td>88.2</td>\n",
       "      <td>0.471</td>\n",
       "      <td>10.8</td>\n",
       "      <td>30.2</td>\n",
       "      <td>0.359</td>\n",
       "      <td>30.7</td>\n",
       "      <td>58.0</td>\n",
       "      <td>0.529</td>\n",
       "      <td>21.2</td>\n",
       "      <td>...</td>\n",
       "      <td>0.771</td>\n",
       "      <td>10.9</td>\n",
       "      <td>36.9</td>\n",
       "      <td>47.8</td>\n",
       "      <td>26.9</td>\n",
       "      <td>7.4</td>\n",
       "      <td>5.3</td>\n",
       "      <td>14.9</td>\n",
       "      <td>21.3</td>\n",
       "      <td>115.2</td>\n",
       "    </tr>\n",
       "    <tr>\n",
       "      <th>4</th>\n",
       "      <td>41.3</td>\n",
       "      <td>87.5</td>\n",
       "      <td>0.471</td>\n",
       "      <td>10.0</td>\n",
       "      <td>25.8</td>\n",
       "      <td>0.388</td>\n",
       "      <td>31.3</td>\n",
       "      <td>61.7</td>\n",
       "      <td>0.507</td>\n",
       "      <td>22.6</td>\n",
       "      <td>...</td>\n",
       "      <td>0.792</td>\n",
       "      <td>9.7</td>\n",
       "      <td>35.8</td>\n",
       "      <td>45.5</td>\n",
       "      <td>24.0</td>\n",
       "      <td>6.8</td>\n",
       "      <td>4.7</td>\n",
       "      <td>14.5</td>\n",
       "      <td>23.3</td>\n",
       "      <td>115.1</td>\n",
       "    </tr>\n",
       "  </tbody>\n",
       "</table>\n",
       "<p>5 rows × 21 columns</p>\n",
       "</div>"
      ],
      "text/plain": [
       "     FG   FGA    FG%    3P   3PA    3P%    2P   2PA    2P%    FT  ...    FT%  \\\n",
       "0  43.4  91.1  0.476  13.5  38.2  0.353  29.9  52.9  0.565  17.9  ...  0.773   \n",
       "1  44.0  89.8  0.491  13.3  34.4  0.385  30.8  55.3  0.557  16.3  ...  0.801   \n",
       "2  43.7  92.2  0.473  10.3  29.9  0.344  33.4  62.4  0.536  17.8  ...  0.761   \n",
       "3  41.5  88.2  0.471  10.8  30.2  0.359  30.7  58.0  0.529  21.2  ...  0.771   \n",
       "4  41.3  87.5  0.471  10.0  25.8  0.388  31.3  61.7  0.507  22.6  ...  0.792   \n",
       "\n",
       "    ORB   DRB   TRB   AST  STL  BLK   TOV    PF    PTS  \n",
       "0   9.3  40.4  49.7  26.0  7.5  5.9  13.9  19.6  118.1  \n",
       "1   9.7  36.5  46.2  29.4  7.6  6.4  14.3  21.4  117.7  \n",
       "2  11.1  36.2  47.3  27.0  7.4  5.4  14.8  21.1  115.4  \n",
       "3  10.9  36.9  47.8  26.9  7.4  5.3  14.9  21.3  115.2  \n",
       "4   9.7  35.8  45.5  24.0  6.8  4.7  14.5  23.3  115.1  \n",
       "\n",
       "[5 rows x 21 columns]"
      ]
     },
     "execution_count": 18,
     "metadata": {},
     "output_type": "execute_result"
    }
   ],
   "source": [
    "# isolate necessary features from the Team 2019 dataset\n",
    "team_2019_features = team_2019.drop(['Rk', 'Team', 'G', 'MP'], axis=1)\n",
    "team_2019_features.head()"
   ]
  },
  {
   "cell_type": "code",
   "execution_count": 23,
   "metadata": {},
   "outputs": [
    {
     "data": {
      "text/plain": [
       "array([[ 43.7       ,  90.45      ,   0.4835    ,  13.4       ,\n",
       "         36.3       ,   0.369     ,  30.35      ,  54.1       ,\n",
       "          0.561     ,  17.1       ,  21.8       ,   0.787     ,\n",
       "          9.5       ,  38.45      ,  47.95      ,  27.7       ,\n",
       "          7.55      ,   6.15      ,  14.1       ,  20.5       ,\n",
       "        117.9       ],\n",
       "       [ 40.71538462,  89.14615385,   0.457     ,  11.98461538,\n",
       "         34.        ,   0.35253846,  28.73076923,  55.14615385,\n",
       "          0.52130769,  17.32307692,  22.78461538,   0.76084615,\n",
       "         10.5       ,  34.76923077,  45.27692308,  24.96153846,\n",
       "          7.55384615,   4.90769231,  14.13076923,  20.75384615,\n",
       "        110.73076923],\n",
       "       [ 42.34444444,  90.64444444,   0.46711111,  10.56666667,\n",
       "         29.34444444,   0.36133333,  31.77777778,  61.28888889,\n",
       "          0.51855556,  18.61111111,  24.33333333,   0.76466667,\n",
       "         10.86666667,  35.6       ,  46.46666667,  24.93333333,\n",
       "          7.53333333,   5.01111111,  14.03333333,  21.        ,\n",
       "        113.9       ],\n",
       "       [ 39.2       ,  87.4       ,   0.449     ,  16.1       ,\n",
       "         45.4       ,   0.356     ,  23.1       ,  42.        ,\n",
       "          0.551     ,  19.3       ,  24.4       ,   0.791     ,\n",
       "         10.2       ,  31.9       ,  42.1       ,  21.2       ,\n",
       "          8.5       ,   4.9       ,  13.3       ,  22.        ,\n",
       "        113.9       ],\n",
       "       [ 39.38333333,  87.1       ,   0.45233333,   9.73333333,\n",
       "         28.01666667,   0.3485    ,  29.65      ,  59.1       ,\n",
       "          0.50166667,  16.96666667,  22.01666667,   0.77283333,\n",
       "          9.53333333,  33.05      ,  42.58333333,  22.75      ,\n",
       "          7.78333333,   4.55      ,  14.15      ,  21.03333333,\n",
       "        105.5       ]])"
      ]
     },
     "execution_count": 23,
     "metadata": {},
     "output_type": "execute_result"
    }
   ],
   "source": [
    "# generate sample Kmeans using 2019 Team Data\n",
    "kmeans = KMeans(n_clusters=5).fit(team_2019_features)\n",
    "kmeans.cluster_centers_"
   ]
  },
  {
   "cell_type": "code",
   "execution_count": 19,
   "metadata": {},
   "outputs": [],
   "source": [
    "team_2010_pand = datasets['2019 Misc']\n",
    "team_2010_pand = team_2010_pand.drop(0)\n",
    "#team_2010_pand = team_2010_pand.drop(['Rk','Team','Age', 'PW', 'PL', 'MOV', 'SOS', 'SRS'], axis = 1)\n",
    "\n",
    "\n",
    "#team_2010 = datasets['2010 Team'].to_numpy()\n",
    "#misc_2010 = datasets['2010 Misc'].to_numpy()\n",
    "#oppon_2010 = datasets['2010 Opponent']\n"
   ]
  },
  {
   "cell_type": "code",
   "execution_count": null,
   "metadata": {},
   "outputs": [],
   "source": [
    "team_2010_std = StandardScaler().fit_transform(team_2010_pand)\n",
    "pca = PCA(n_components=2)\n",
    "pc = pca.fit_transform(team_2010_std)\n",
    "PCA_components = pd.DataFrame(pc)\n",
    "plt.scatter(PCA_components[0], PCA_components[1], alpha=.1, color='black')\n",
    "plt.xlabel('PCA 1')\n",
    "plt.ylabel('PCA 2')\n",
    "team_2010_pan"
   ]
  },
  {
   "cell_type": "code",
   "execution_count": 91,
   "metadata": {},
   "outputs": [
    {
     "data": {
      "image/png": "[encoded data removed]",
      "text/plain": [
       "<Figure size 432x288 with 1 Axes>"
      ]
     },
     "metadata": {},
     "output_type": "display_data"
    },
    {
     "data": {
      "text/plain": [
       "<matplotlib.collections.PathCollection at 0x7fe323409880>"
      ]
     },
     "execution_count": 91,
     "metadata": {},
     "output_type": "execute_result"
    },
    {
     "data": {
      "image/png": "[encoded data removed]",
      "text/plain": [
       "<Figure size 432x288 with 1 Axes>"
      ]
     },
     "metadata": {},
     "output_type": "display_data"
    }
   ],
   "source": [
    "ks = range(1, 10)\n",
    "inertias = []\n",
    "for k in ks:\n",
    "    # Create a KMeans instance with k clusters: model\n",
    "    model = KMeans(n_clusters=k)\n",
    "    \n",
    "    # Fit model to samples\n",
    "    model.fit(PCA_components.iloc[:,:3])\n",
    "    \n",
    "    # Append the inertia to the list of inertias\n",
    "    inertias.append(model.inertia_)\n",
    "\n",
    "#Plotting graph to find the elbow point for K-means\n",
    "plt.plot(ks, inertias, '-o', color='black')\n",
    "plt.xlabel('number of clusters, k')\n",
    "plt.ylabel('inertia')\n",
    "plt.xticks(ks)\n",
    "plt.show()\n",
    "kmeans = KMeans(n_clusters=4)\n",
    "kmeans.fit(PCA_components)\n",
    "y_kmeans = kmeans.predict(PCA_components)\n",
    "plt.scatter(PCA_components.to_numpy()[:,0], PCA_components.to_numpy()[:,1], c=y_kmeans, cmap='viridis')\n",
    "centers = kmeans.cluster_centers_\n",
    "plt.scatter(centers[:, 0], centers[:, 1], c='black', s=200, alpha=0.5)"
   ]
  },
  {
   "cell_type": "code",
   "execution_count": 45,
   "metadata": {},
   "outputs": [
    {
     "data": {
      "image/png": "[encoded data removed]",
      "text/plain": [
       "<Figure size 432x288 with 1 Axes>"
      ]
     },
     "metadata": {},
     "output_type": "display_data"
    },
    {
     "data": {
      "image/png": "[encoded data removed]",
      "text/plain": [
       "<Figure size 432x288 with 1 Axes>"
      ]
     },
     "metadata": {},
     "output_type": "display_data"
    }
   ],
   "source": [
    "fg_percent = team_2010['FG%'].to_numpy().reshape(-1,1)\n",
    "threep_percent = team_2010['3P%'].to_numpy().reshape(-1,1)\n",
    "reg = LinearRegression()\n",
    "reg.fit(fg_percent, threep_percent)\n",
    "reg_pred = reg.predict(fg_percent)\n",
    "plt.scatter(fg_percent, threep_percent)\n",
    "plt.plot(fg_percent, reg_pred, color='blue', linewidth=3)\n",
    "plt.show()\n",
    "sample_plot = sns.regplot(x = 'FG%', y = '3P%', data = team_2010)\n",
    "\n",
    "\n",
    "\n"
   ]
  }
 ],
 "metadata": {
  "kernelspec": {
   "display_name": "Python 3",
   "language": "python",
   "name": "python3"
  },
  "language_info": {
   "codemirror_mode": {
    "name": "ipython",
    "version": 3
   },
   "file_extension": ".py",
   "mimetype": "text/x-python",
   "name": "python",
   "nbconvert_exporter": "python",
   "pygments_lexer": "ipython3",
   "version": "3.7.6"
  }
 },
 "nbformat": 4,
 "nbformat_minor": 4
}
