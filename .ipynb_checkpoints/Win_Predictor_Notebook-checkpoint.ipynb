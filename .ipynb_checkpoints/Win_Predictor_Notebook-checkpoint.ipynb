{
 "cells": [
  {
   "cell_type": "markdown",
   "metadata": {},
   "source": [
    "# Applying Neural Networks to NBA Team Win Prediction"
   ]
  },
  {
   "cell_type": "code",
   "execution_count": 1,
   "metadata": {},
   "outputs": [],
   "source": [
    "# import packages\n",
    "import os\n",
    "import numpy as np\n",
    "import pandas as pd"
   ]
  },
  {
   "cell_type": "markdown",
   "metadata": {},
   "source": [
    "### Data Cleaning and Aggregation"
   ]
  },
  {
   "cell_type": "code",
   "execution_count": 12,
   "metadata": {},
   "outputs": [
    {
     "name": "stdout",
     "output_type": "stream",
     "text": [
      "2018-2019 Team\n",
      "2016-2017 Misc\n",
      "2015-2016 Misc\n",
      "2019-2020 Misc\n",
      "2017-2018 Misc\n",
      "2019-2020 Team\n",
      "2015-2016 Team\n",
      "2017-2018 Team\n",
      "2016-2017 Team\n",
      "2018-2019 Misc\n"
     ]
    }
   ],
   "source": [
    "# create a list to hold all dataset names\n",
    "dataset_list = []\n",
    "\n",
    "# adds all CSV files from the datasets folder to a list\n",
    "for dataset in os.listdir('./win_predictor_data/'):\n",
    "    if (dataset.endswith('.csv')):\n",
    "        dataset_list.append(dataset)\n",
    "\n",
    "# adds all datasets to a dictionary with the key being 'Year Type' \n",
    "datasets = {}\n",
    "for dataset in dataset_list:\n",
    "    data_file = pd.read_csv('./win_predictor_data/' + dataset)\n",
    "    dataset_name = dataset[dataset.index('- ') + 1 : dataset.index('.')].strip()\n",
    "    print(dataset_name)\n",
    "    datasets[dataset_name] = data_file"
   ]
  },
  {
   "cell_type": "code",
   "execution_count": 22,
   "metadata": {},
   "outputs": [
    {
     "name": "stdout",
     "output_type": "stream",
     "text": [
      "  Unnamed: 0              Unnamed: 1 Unnamed: 2 Unnamed: 3 Unnamed: 4  \\\n",
      "0         Rk                    Team        Age          W          L   \n",
      "1          1  Golden State Warriors*       27.4         73          9   \n",
      "2          2      San Antonio Spurs*       30.3         67         15   \n",
      "3          3  Oklahoma City Thunder*       25.8         55         27   \n",
      "4          4    Cleveland Cavaliers*       28.1         57         25   \n",
      "\n",
      "  Unnamed: 5 Unnamed: 6 Unnamed: 7 Unnamed: 8 Unnamed: 9  ... Unnamed: 18  \\\n",
      "0         PW         PL        MOV        SOS        SRS  ...        TOV%   \n",
      "1         65         17      10.76      -0.38      10.38  ...        13.5   \n",
      "2         67         15      10.63      -0.36      10.28  ...        12.4   \n",
      "3         59         23       7.28      -0.19       7.09  ...          14   \n",
      "4         57         25          6      -0.55       5.45  ...        12.7   \n",
      "\n",
      "  Unnamed: 19 Unnamed: 20 Defense Four Factors Unnamed: 22 Unnamed: 23  \\\n",
      "0        ORB%      FT/FGA                 eFG%        TOV%        DRB%   \n",
      "1        23.5       0.191                0.479        12.6          76   \n",
      "2          23       0.197                0.477        14.1        79.1   \n",
      "3        31.1       0.228                0.484        11.7          76   \n",
      "4        25.1       0.194                0.496        12.6        78.5   \n",
      "\n",
      "  Unnamed: 24              Unnamed: 25 Unnamed: 26 Unnamed: 27  \n",
      "0      FT/FGA                    Arena     Attend.   Attend./G  \n",
      "1       0.208             Oracle Arena     803,436      19,596  \n",
      "2       0.182              AT&T Center     756,445      18,450  \n",
      "3       0.205  Chesapeake Energy Arena     746,323      18,203  \n",
      "4       0.205      Quicken Loans Arena     843,042      20,562  \n",
      "\n",
      "[5 rows x 28 columns]\n",
      "2015-2016\n",
      "    Rk                    Team   G     MP    FG   FGA    FG%    3P   3PA  \\\n",
      "0  1.0  Golden State Warriors*  82  242.4  42.5  87.3  0.487  13.1  31.6   \n",
      "1  2.0  Oklahoma City Thunder*  82  241.8  41.1  86.4  0.476   8.3  23.7   \n",
      "2  3.0        Sacramento Kings  82  241.5  40.0  86.4  0.464   8.0  22.4   \n",
      "3  4.0        Houston Rockets*  82  241.8  37.7  83.5  0.452  10.7  30.9   \n",
      "4  5.0         Boston Celtics*  82  241.2  39.2  89.2  0.439   8.7  26.1   \n",
      "\n",
      "     3P%  ...    FT%   ORB   DRB   TRB   AST   STL  BLK   TOV    PF    PTS  \n",
      "0  0.416  ...  0.763  10.0  36.2  46.2  28.9   8.4  6.1  15.2  20.7  114.9  \n",
      "1  0.349  ...  0.782  13.1  35.6  48.6  23.0   7.4  5.9  15.9  20.6  110.2  \n",
      "2  0.359  ...  0.725  10.6  33.7  44.2  24.5   8.9  4.5  16.2  20.4  106.6  \n",
      "3  0.347  ...  0.694  11.3  31.7  43.1  22.2  10.0  5.2  15.9  21.8  106.5  \n",
      "4  0.335  ...  0.788  11.6  33.3  44.9  24.2   9.2  4.2  13.7  21.9  105.7  \n",
      "\n",
      "[5 rows x 25 columns]\n",
      "2015-2016\n"
     ]
    },
    {
     "ename": "KeyError",
     "evalue": "'Team'",
     "output_type": "error",
     "traceback": [
      "\u001b[0;31m---------------------------------------------------------------------------\u001b[0m",
      "\u001b[0;31mKeyError\u001b[0m                                  Traceback (most recent call last)",
      "\u001b[0;32m<ipython-input-22-acfa2a161605>\u001b[0m in \u001b[0;36m<module>\u001b[0;34m\u001b[0m\n\u001b[1;32m      7\u001b[0m     \u001b[0mprint\u001b[0m\u001b[0;34m(\u001b[0m\u001b[0myear_label\u001b[0m\u001b[0;34m)\u001b[0m\u001b[0;34m\u001b[0m\u001b[0;34m\u001b[0m\u001b[0m\n\u001b[1;32m      8\u001b[0m     \u001b[0;32mif\u001b[0m \u001b[0myear_label\u001b[0m \u001b[0;32min\u001b[0m \u001b[0magg_datasets\u001b[0m\u001b[0;34m:\u001b[0m\u001b[0;34m\u001b[0m\u001b[0;34m\u001b[0m\u001b[0m\n\u001b[0;32m----> 9\u001b[0;31m         \u001b[0magg_datasets\u001b[0m\u001b[0;34m[\u001b[0m\u001b[0myear_label\u001b[0m\u001b[0;34m]\u001b[0m \u001b[0;34m=\u001b[0m \u001b[0mpd\u001b[0m\u001b[0;34m.\u001b[0m\u001b[0mmerge\u001b[0m\u001b[0;34m(\u001b[0m\u001b[0magg_datasets\u001b[0m\u001b[0;34m[\u001b[0m\u001b[0myear_label\u001b[0m\u001b[0;34m]\u001b[0m\u001b[0;34m,\u001b[0m \u001b[0mdatasets\u001b[0m\u001b[0;34m[\u001b[0m\u001b[0mdataset\u001b[0m\u001b[0;34m]\u001b[0m\u001b[0;34m,\u001b[0m \u001b[0mon\u001b[0m\u001b[0;34m=\u001b[0m\u001b[0;34m'Team'\u001b[0m\u001b[0;34m)\u001b[0m\u001b[0;34m\u001b[0m\u001b[0;34m\u001b[0m\u001b[0m\n\u001b[0m\u001b[1;32m     10\u001b[0m \u001b[0;34m\u001b[0m\u001b[0m\n\u001b[1;32m     11\u001b[0m     \u001b[0;32melse\u001b[0m\u001b[0;34m:\u001b[0m\u001b[0;34m\u001b[0m\u001b[0;34m\u001b[0m\u001b[0m\n",
      "\u001b[0;32m~/miniconda3/lib/python3.7/site-packages/pandas/core/reshape/merge.py\u001b[0m in \u001b[0;36mmerge\u001b[0;34m(left, right, how, on, left_on, right_on, left_index, right_index, sort, suffixes, copy, indicator, validate)\u001b[0m\n\u001b[1;32m     84\u001b[0m         \u001b[0mcopy\u001b[0m\u001b[0;34m=\u001b[0m\u001b[0mcopy\u001b[0m\u001b[0;34m,\u001b[0m\u001b[0;34m\u001b[0m\u001b[0;34m\u001b[0m\u001b[0m\n\u001b[1;32m     85\u001b[0m         \u001b[0mindicator\u001b[0m\u001b[0;34m=\u001b[0m\u001b[0mindicator\u001b[0m\u001b[0;34m,\u001b[0m\u001b[0;34m\u001b[0m\u001b[0;34m\u001b[0m\u001b[0m\n\u001b[0;32m---> 86\u001b[0;31m         \u001b[0mvalidate\u001b[0m\u001b[0;34m=\u001b[0m\u001b[0mvalidate\u001b[0m\u001b[0;34m,\u001b[0m\u001b[0;34m\u001b[0m\u001b[0;34m\u001b[0m\u001b[0m\n\u001b[0m\u001b[1;32m     87\u001b[0m     )\n\u001b[1;32m     88\u001b[0m     \u001b[0;32mreturn\u001b[0m \u001b[0mop\u001b[0m\u001b[0;34m.\u001b[0m\u001b[0mget_result\u001b[0m\u001b[0;34m(\u001b[0m\u001b[0;34m)\u001b[0m\u001b[0;34m\u001b[0m\u001b[0;34m\u001b[0m\u001b[0m\n",
      "\u001b[0;32m~/miniconda3/lib/python3.7/site-packages/pandas/core/reshape/merge.py\u001b[0m in \u001b[0;36m__init__\u001b[0;34m(self, left, right, how, on, left_on, right_on, axis, left_index, right_index, sort, suffixes, copy, indicator, validate)\u001b[0m\n\u001b[1;32m    625\u001b[0m             \u001b[0mself\u001b[0m\u001b[0;34m.\u001b[0m\u001b[0mright_join_keys\u001b[0m\u001b[0;34m,\u001b[0m\u001b[0;34m\u001b[0m\u001b[0;34m\u001b[0m\u001b[0m\n\u001b[1;32m    626\u001b[0m             \u001b[0mself\u001b[0m\u001b[0;34m.\u001b[0m\u001b[0mjoin_names\u001b[0m\u001b[0;34m,\u001b[0m\u001b[0;34m\u001b[0m\u001b[0;34m\u001b[0m\u001b[0m\n\u001b[0;32m--> 627\u001b[0;31m         ) = self._get_merge_keys()\n\u001b[0m\u001b[1;32m    628\u001b[0m \u001b[0;34m\u001b[0m\u001b[0m\n\u001b[1;32m    629\u001b[0m         \u001b[0;31m# validate the merge keys dtypes. We may need to coerce\u001b[0m\u001b[0;34m\u001b[0m\u001b[0;34m\u001b[0m\u001b[0;34m\u001b[0m\u001b[0m\n",
      "\u001b[0;32m~/miniconda3/lib/python3.7/site-packages/pandas/core/reshape/merge.py\u001b[0m in \u001b[0;36m_get_merge_keys\u001b[0;34m(self)\u001b[0m\n\u001b[1;32m    994\u001b[0m                         \u001b[0mright_keys\u001b[0m\u001b[0;34m.\u001b[0m\u001b[0mappend\u001b[0m\u001b[0;34m(\u001b[0m\u001b[0mrk\u001b[0m\u001b[0;34m)\u001b[0m\u001b[0;34m\u001b[0m\u001b[0;34m\u001b[0m\u001b[0m\n\u001b[1;32m    995\u001b[0m                     \u001b[0;32mif\u001b[0m \u001b[0mlk\u001b[0m \u001b[0;32mis\u001b[0m \u001b[0;32mnot\u001b[0m \u001b[0;32mNone\u001b[0m\u001b[0;34m:\u001b[0m\u001b[0;34m\u001b[0m\u001b[0;34m\u001b[0m\u001b[0m\n\u001b[0;32m--> 996\u001b[0;31m                         \u001b[0mleft_keys\u001b[0m\u001b[0;34m.\u001b[0m\u001b[0mappend\u001b[0m\u001b[0;34m(\u001b[0m\u001b[0mleft\u001b[0m\u001b[0;34m.\u001b[0m\u001b[0m_get_label_or_level_values\u001b[0m\u001b[0;34m(\u001b[0m\u001b[0mlk\u001b[0m\u001b[0;34m)\u001b[0m\u001b[0;34m)\u001b[0m\u001b[0;34m\u001b[0m\u001b[0;34m\u001b[0m\u001b[0m\n\u001b[0m\u001b[1;32m    997\u001b[0m                         \u001b[0mjoin_names\u001b[0m\u001b[0;34m.\u001b[0m\u001b[0mappend\u001b[0m\u001b[0;34m(\u001b[0m\u001b[0mlk\u001b[0m\u001b[0;34m)\u001b[0m\u001b[0;34m\u001b[0m\u001b[0;34m\u001b[0m\u001b[0m\n\u001b[1;32m    998\u001b[0m                     \u001b[0;32melse\u001b[0m\u001b[0;34m:\u001b[0m\u001b[0;34m\u001b[0m\u001b[0;34m\u001b[0m\u001b[0m\n",
      "\u001b[0;32m~/miniconda3/lib/python3.7/site-packages/pandas/core/generic.py\u001b[0m in \u001b[0;36m_get_label_or_level_values\u001b[0;34m(self, key, axis)\u001b[0m\n\u001b[1;32m   1690\u001b[0m             \u001b[0mvalues\u001b[0m \u001b[0;34m=\u001b[0m \u001b[0mself\u001b[0m\u001b[0;34m.\u001b[0m\u001b[0maxes\u001b[0m\u001b[0;34m[\u001b[0m\u001b[0maxis\u001b[0m\u001b[0;34m]\u001b[0m\u001b[0;34m.\u001b[0m\u001b[0mget_level_values\u001b[0m\u001b[0;34m(\u001b[0m\u001b[0mkey\u001b[0m\u001b[0;34m)\u001b[0m\u001b[0;34m.\u001b[0m\u001b[0m_values\u001b[0m\u001b[0;34m\u001b[0m\u001b[0;34m\u001b[0m\u001b[0m\n\u001b[1;32m   1691\u001b[0m         \u001b[0;32melse\u001b[0m\u001b[0;34m:\u001b[0m\u001b[0;34m\u001b[0m\u001b[0;34m\u001b[0m\u001b[0m\n\u001b[0;32m-> 1692\u001b[0;31m             \u001b[0;32mraise\u001b[0m \u001b[0mKeyError\u001b[0m\u001b[0;34m(\u001b[0m\u001b[0mkey\u001b[0m\u001b[0;34m)\u001b[0m\u001b[0;34m\u001b[0m\u001b[0;34m\u001b[0m\u001b[0m\n\u001b[0m\u001b[1;32m   1693\u001b[0m \u001b[0;34m\u001b[0m\u001b[0m\n\u001b[1;32m   1694\u001b[0m         \u001b[0;31m# Check for duplicates\u001b[0m\u001b[0;34m\u001b[0m\u001b[0;34m\u001b[0m\u001b[0;34m\u001b[0m\u001b[0m\n",
      "\u001b[0;31mKeyError\u001b[0m: 'Team'"
     ]
    }
   ],
   "source": [
    "agg_datasets = {}\n",
    "\n",
    "for dataset in sorted(datasets):\n",
    "    \n",
    "    print(datasets[dataset].head())\n",
    "    year_label = dataset[0 : dataset.index(' ')]\n",
    "    print(year_label)\n",
    "    if year_label in agg_datasets:\n",
    "        agg_datasets[year_label] = pd.merge(agg_datasets[year_label], datasets[dataset], on='Team')\n",
    "    \n",
    "    else:\n",
    "        agg_datasets[year_label] = datasets[dataset]"
   ]
  },
  {
   "cell_type": "code",
   "execution_count": null,
   "metadata": {},
   "outputs": [],
   "source": [
    "\n",
    "\n",
    "\n",
    "\n",
    "\n",
    "\n",
    "\n",
    "    \n",
    "    np_datasets =  {} ##this will be a dictionary of arrays\n",
    "\n",
    "    for key in sorted (datasets.keys()): \n",
    "        if key[5:len(key)] in stat_types:\n",
    "            season_data = datasets[key]\n",
    "            \n",
    "            if key[0:4] in np_datasets:\n",
    "                np_datasets[key[0:4]] = pd.merge(np_datasets[key[0:4]], season_data, on = ['Team'])\n",
    "            else:\n",
    "                np_datasets[key[0:4]] = season_data\n",
    "\n",
    "    ## Adds the year to team name to provide unique identification to each team      \n",
    "    team_data = {}\n",
    "    for key in np_datasets:\n",
    "\n",
    "            for index in np_datasets[key].index:\n",
    "                if 'League Average' not in np_datasets[key].loc[index, 'Team']:\n",
    "                    team_key = np_datasets[key].loc[index, 'Team'] + \" \" + key\n",
    "                    team_data[team_key] = np_datasets[key].loc[index,:]\n",
    "\n",
    "\n",
    "    agg_data = pd.DataFrame.from_dict(team_data, orient='index')\n",
    "    agg_data = agg_data.loc[:, stats]\n",
    "    \n",
    "    \n",
    "    return agg_data"
   ]
  }
 ],
 "metadata": {
  "kernelspec": {
   "display_name": "Python 3",
   "language": "python",
   "name": "python3"
  },
  "language_info": {
   "codemirror_mode": {
    "name": "ipython",
    "version": 3
   },
   "file_extension": ".py",
   "mimetype": "text/x-python",
   "name": "python",
   "nbconvert_exporter": "python",
   "pygments_lexer": "ipython3",
   "version": "3.7.6"
  }
 },
 "nbformat": 4,
 "nbformat_minor": 4
}
